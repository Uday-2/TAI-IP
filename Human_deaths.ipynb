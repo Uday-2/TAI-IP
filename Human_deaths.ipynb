{
 "cells": [
  {
   "cell_type": "code",
   "execution_count": 1,
   "id": "385c6aac",
   "metadata": {},
   "outputs": [],
   "source": [
    "# loading the dataset"
   ]
  },
  {
   "cell_type": "code",
   "execution_count": 3,
   "id": "889087a9",
   "metadata": {},
   "outputs": [],
   "source": [
    "import pandas as pd\n",
    "import matplotlib.pyplot as plt\n",
    "import numpy as np"
   ]
  },
  {
   "cell_type": "code",
   "execution_count": 4,
   "id": "64ee327e",
   "metadata": {},
   "outputs": [],
   "source": [
    "#loading dataset\n",
    "df = pd.read_csv('deaths_on_eight-thousanders.csv')"
   ]
  },
  {
   "cell_type": "code",
   "execution_count": 5,
   "id": "c162bda4",
   "metadata": {},
   "outputs": [
    {
     "data": {
      "text/html": [
       "<div>\n",
       "<style scoped>\n",
       "    .dataframe tbody tr th:only-of-type {\n",
       "        vertical-align: middle;\n",
       "    }\n",
       "\n",
       "    .dataframe tbody tr th {\n",
       "        vertical-align: top;\n",
       "    }\n",
       "\n",
       "    .dataframe thead th {\n",
       "        text-align: right;\n",
       "    }\n",
       "</style>\n",
       "<table border=\"1\" class=\"dataframe\">\n",
       "  <thead>\n",
       "    <tr style=\"text-align: right;\">\n",
       "      <th></th>\n",
       "      <th>Date</th>\n",
       "      <th>Name</th>\n",
       "      <th>Nationality</th>\n",
       "      <th>Cause of death</th>\n",
       "      <th>Mountain</th>\n",
       "    </tr>\n",
       "  </thead>\n",
       "  <tbody>\n",
       "    <tr>\n",
       "      <th>0</th>\n",
       "      <td>2023-07-27</td>\n",
       "      <td>Muhammad Hassan</td>\n",
       "      <td>Pakistan</td>\n",
       "      <td>Unknown</td>\n",
       "      <td>K2</td>\n",
       "    </tr>\n",
       "    <tr>\n",
       "      <th>1</th>\n",
       "      <td>2022-07-22</td>\n",
       "      <td>Matthew Eakin</td>\n",
       "      <td>Australia</td>\n",
       "      <td>Fall</td>\n",
       "      <td>K2</td>\n",
       "    </tr>\n",
       "    <tr>\n",
       "      <th>2</th>\n",
       "      <td>2022-07-22</td>\n",
       "      <td>Richard Cartier</td>\n",
       "      <td>Canada</td>\n",
       "      <td>Fall</td>\n",
       "      <td>K2</td>\n",
       "    </tr>\n",
       "    <tr>\n",
       "      <th>3</th>\n",
       "      <td>2022-07-21</td>\n",
       "      <td>Ali Akbar Sakhi</td>\n",
       "      <td>Afghanistan</td>\n",
       "      <td>Unknown, suspected altitude sickness</td>\n",
       "      <td>K2</td>\n",
       "    </tr>\n",
       "    <tr>\n",
       "      <th>4</th>\n",
       "      <td>2021-07-25</td>\n",
       "      <td>Rick Allen</td>\n",
       "      <td>United Kingdom</td>\n",
       "      <td>Avalanche</td>\n",
       "      <td>K2</td>\n",
       "    </tr>\n",
       "    <tr>\n",
       "      <th>...</th>\n",
       "      <td>...</td>\n",
       "      <td>...</td>\n",
       "      <td>...</td>\n",
       "      <td>...</td>\n",
       "      <td>...</td>\n",
       "    </tr>\n",
       "    <tr>\n",
       "      <th>1073</th>\n",
       "      <td>2023-05-21</td>\n",
       "      <td>Ang Kami Sherpa</td>\n",
       "      <td>Nepal</td>\n",
       "      <td>Fall</td>\n",
       "      <td>Mount Everest</td>\n",
       "    </tr>\n",
       "    <tr>\n",
       "      <th>1074</th>\n",
       "      <td>2023-05-25</td>\n",
       "      <td>Szilárd Suhajda [hu]</td>\n",
       "      <td>Hungary</td>\n",
       "      <td>Disappeared (reportedly suffered from HACE)</td>\n",
       "      <td>Mount Everest</td>\n",
       "    </tr>\n",
       "    <tr>\n",
       "      <th>1075</th>\n",
       "      <td>2023-05-25</td>\n",
       "      <td>Ranjit Kumar Shah</td>\n",
       "      <td>Nepal</td>\n",
       "      <td>Disappeared</td>\n",
       "      <td>Mount Everest</td>\n",
       "    </tr>\n",
       "    <tr>\n",
       "      <th>1076</th>\n",
       "      <td>2023-05-26</td>\n",
       "      <td>Pieter Swart</td>\n",
       "      <td>Canada</td>\n",
       "      <td>Respiratory Event</td>\n",
       "      <td>Mount Everest</td>\n",
       "    </tr>\n",
       "    <tr>\n",
       "      <th>1077</th>\n",
       "      <td>2023-06-03</td>\n",
       "      <td>Lhakpa Nuru Sherpa</td>\n",
       "      <td>Nepal</td>\n",
       "      <td>Suffered from HAPE, later died in hospital due...</td>\n",
       "      <td>Mount Everest</td>\n",
       "    </tr>\n",
       "  </tbody>\n",
       "</table>\n",
       "<p>1078 rows × 5 columns</p>\n",
       "</div>"
      ],
      "text/plain": [
       "            Date                  Name     Nationality  \\\n",
       "0     2023-07-27       Muhammad Hassan        Pakistan   \n",
       "1     2022-07-22         Matthew Eakin       Australia   \n",
       "2     2022-07-22       Richard Cartier          Canada   \n",
       "3     2022-07-21       Ali Akbar Sakhi     Afghanistan   \n",
       "4     2021-07-25            Rick Allen  United Kingdom   \n",
       "...          ...                   ...             ...   \n",
       "1073  2023-05-21       Ang Kami Sherpa           Nepal   \n",
       "1074  2023-05-25  Szilárd Suhajda [hu]         Hungary   \n",
       "1075  2023-05-25     Ranjit Kumar Shah           Nepal   \n",
       "1076  2023-05-26          Pieter Swart          Canada   \n",
       "1077  2023-06-03    Lhakpa Nuru Sherpa           Nepal   \n",
       "\n",
       "                                         Cause of death       Mountain  \n",
       "0                                               Unknown             K2  \n",
       "1                                                  Fall             K2  \n",
       "2                                                  Fall             K2  \n",
       "3                  Unknown, suspected altitude sickness             K2  \n",
       "4                                             Avalanche             K2  \n",
       "...                                                 ...            ...  \n",
       "1073                                               Fall  Mount Everest  \n",
       "1074        Disappeared (reportedly suffered from HACE)  Mount Everest  \n",
       "1075                                        Disappeared  Mount Everest  \n",
       "1076                                  Respiratory Event  Mount Everest  \n",
       "1077  Suffered from HAPE, later died in hospital due...  Mount Everest  \n",
       "\n",
       "[1078 rows x 5 columns]"
      ]
     },
     "execution_count": 5,
     "metadata": {},
     "output_type": "execute_result"
    }
   ],
   "source": [
    "df"
   ]
  },
  {
   "cell_type": "code",
   "execution_count": 6,
   "id": "57df5911",
   "metadata": {},
   "outputs": [],
   "source": [
    "#summary statistics of a dataset\n",
    "\n",
    "df = df.describe()"
   ]
  },
  {
   "cell_type": "code",
   "execution_count": 7,
   "id": "9397e0db",
   "metadata": {},
   "outputs": [
    {
     "data": {
      "text/html": [
       "<div>\n",
       "<style scoped>\n",
       "    .dataframe tbody tr th:only-of-type {\n",
       "        vertical-align: middle;\n",
       "    }\n",
       "\n",
       "    .dataframe tbody tr th {\n",
       "        vertical-align: top;\n",
       "    }\n",
       "\n",
       "    .dataframe thead th {\n",
       "        text-align: right;\n",
       "    }\n",
       "</style>\n",
       "<table border=\"1\" class=\"dataframe\">\n",
       "  <thead>\n",
       "    <tr style=\"text-align: right;\">\n",
       "      <th></th>\n",
       "      <th>Date</th>\n",
       "      <th>Name</th>\n",
       "      <th>Nationality</th>\n",
       "      <th>Cause of death</th>\n",
       "      <th>Mountain</th>\n",
       "    </tr>\n",
       "  </thead>\n",
       "  <tbody>\n",
       "    <tr>\n",
       "      <th>count</th>\n",
       "      <td>1078</td>\n",
       "      <td>1078</td>\n",
       "      <td>1076</td>\n",
       "      <td>1069</td>\n",
       "      <td>1078</td>\n",
       "    </tr>\n",
       "    <tr>\n",
       "      <th>unique</th>\n",
       "      <td>676</td>\n",
       "      <td>1053</td>\n",
       "      <td>73</td>\n",
       "      <td>181</td>\n",
       "      <td>14</td>\n",
       "    </tr>\n",
       "    <tr>\n",
       "      <th>top</th>\n",
       "      <td>2015-04-25</td>\n",
       "      <td>Ang Tshering</td>\n",
       "      <td>Nepal</td>\n",
       "      <td>Avalanche</td>\n",
       "      <td>Mount Everest</td>\n",
       "    </tr>\n",
       "    <tr>\n",
       "      <th>freq</th>\n",
       "      <td>17</td>\n",
       "      <td>3</td>\n",
       "      <td>240</td>\n",
       "      <td>276</td>\n",
       "      <td>331</td>\n",
       "    </tr>\n",
       "  </tbody>\n",
       "</table>\n",
       "</div>"
      ],
      "text/plain": [
       "              Date          Name Nationality Cause of death       Mountain\n",
       "count         1078          1078        1076           1069           1078\n",
       "unique         676          1053          73            181             14\n",
       "top     2015-04-25  Ang Tshering       Nepal      Avalanche  Mount Everest\n",
       "freq            17             3         240            276            331"
      ]
     },
     "execution_count": 7,
     "metadata": {},
     "output_type": "execute_result"
    }
   ],
   "source": [
    "df.head(10)"
   ]
  },
  {
   "cell_type": "code",
   "execution_count": 8,
   "id": "edbda92c",
   "metadata": {},
   "outputs": [],
   "source": [
    "# data types of a data"
   ]
  },
  {
   "cell_type": "code",
   "execution_count": null,
   "id": "71e2b159",
   "metadata": {},
   "outputs": [],
   "source": []
  },
  {
   "cell_type": "code",
   "execution_count": 9,
   "id": "05ac23e6",
   "metadata": {},
   "outputs": [
    {
     "name": "stdout",
     "output_type": "stream",
     "text": [
      "<class 'pandas.core.frame.DataFrame'>\n",
      "Index: 4 entries, count to freq\n",
      "Data columns (total 5 columns):\n",
      " #   Column          Non-Null Count  Dtype \n",
      "---  ------          --------------  ----- \n",
      " 0   Date            4 non-null      object\n",
      " 1   Name            4 non-null      object\n",
      " 2   Nationality     4 non-null      object\n",
      " 3   Cause of death  4 non-null      object\n",
      " 4   Mountain        4 non-null      object\n",
      "dtypes: object(5)\n",
      "memory usage: 192.0+ bytes\n"
     ]
    }
   ],
   "source": [
    "df=df.info()"
   ]
  },
  {
   "cell_type": "code",
   "execution_count": 10,
   "id": "6a065717",
   "metadata": {},
   "outputs": [],
   "source": [
    "df"
   ]
  },
  {
   "cell_type": "code",
   "execution_count": 11,
   "id": "70ca9dd7",
   "metadata": {},
   "outputs": [],
   "source": [
    "# creating a barplot "
   ]
  },
  {
   "cell_type": "code",
   "execution_count": 13,
   "id": "dcf377da",
   "metadata": {},
   "outputs": [
    {
     "data": {
      "image/png": "[encoded data removed]",
      "text/plain": [
       "<Figure size 640x480 with 1 Axes>"
      ]
     },
     "metadata": {},
     "output_type": "display_data"
    }
   ],
   "source": [
    "\n",
    "\n",
    "categories = ['Name', 'religion', 'reason', 'mountains']\n",
    "values= [69, 96, 89, 12]\n",
    "\n",
    "plt.bar(categories, values, color='PINK')\n",
    "\n",
    "plt.xlabel('Categories')\n",
    "plt.ylabel('values')\n",
    "plt.title('DEATHS')\n",
    "\n",
    "plt.show()\n"
   ]
  },
  {
   "cell_type": "code",
   "execution_count": null,
   "id": "f0ab4d28",
   "metadata": {},
   "outputs": [],
   "source": []
  }
 ],
 "metadata": {
  "kernelspec": {
   "display_name": "Python 3 (ipykernel)",
   "language": "python",
   "name": "python3"
  },
  "language_info": {
   "codemirror_mode": {
    "name": "ipython",
    "version": 3
   },
   "file_extension": ".py",
   "mimetype": "text/x-python",
   "name": "python",
   "nbconvert_exporter": "python",
   "pygments_lexer": "ipython3",
   "version": "3.11.5"
  }
 },
 "nbformat": 4,
 "nbformat_minor": 5
}
